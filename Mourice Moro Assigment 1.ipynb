{
 "cells": [
  {
   "cell_type": "markdown",
   "id": "037c73ac-0d86-4d5a-ac97-b8163844f2c7",
   "metadata": {},
   "source": [
    "## Fanction "
   ]
  },
  {
   "cell_type": "markdown",
   "id": "9ddbbe12-2784-4faa-9799-8ba9e7fb71e4",
   "metadata": {},
   "source": [
    "- Write a function that takes two numbers as arguments and returns their sum."
   ]
  },
  {
   "cell_type": "code",
   "execution_count": 1,
   "id": "029a5666-3416-4670-9644-a19b5fd88d26",
   "metadata": {},
   "outputs": [],
   "source": [
    "def add_numbers(x, y):\n",
    "    return x + y"
   ]
  },
  {
   "cell_type": "code",
   "execution_count": 2,
   "id": "f7e0881d-061d-410e-9208-0c4dcd6f0e9a",
   "metadata": {},
   "outputs": [
    {
     "data": {
      "text/plain": [
       "5"
      ]
     },
     "execution_count": 2,
     "metadata": {},
     "output_type": "execute_result"
    }
   ],
   "source": [
    "add_numbers(2,3)"
   ]
  },
  {
   "cell_type": "markdown",
   "id": "c6c90bb5-b251-407e-b13a-4c3a320f20ac",
   "metadata": {},
   "source": [
    "- Write a function that takes a list of numbers as an argument and returns the sum of those numbers."
   ]
  },
  {
   "cell_type": "code",
   "execution_count": 3,
   "id": "13e36074-9d7d-4c6d-9652-71c37a63b20c",
   "metadata": {},
   "outputs": [],
   "source": [
    "def sum_list(numbers):\n",
    "    return sum(numbers)"
   ]
  },
  {
   "cell_type": "code",
   "execution_count": 4,
   "id": "f8a90255-14a2-45e5-a265-646a13fd4167",
   "metadata": {},
   "outputs": [
    {
     "data": {
      "text/plain": [
       "15"
      ]
     },
     "execution_count": 4,
     "metadata": {},
     "output_type": "execute_result"
    }
   ],
   "source": [
    "numbers=[1,2,3,4,5]\n",
    "sum_list(numbers)"
   ]
  },
  {
   "cell_type": "markdown",
   "id": "5b13316d-6e99-40cc-8e20-c1cef178b500",
   "metadata": {},
   "source": [
    "- Write a function that takes a string as an argument and returns the length of that string."
   ]
  },
  {
   "cell_type": "code",
   "execution_count": 5,
   "id": "faf27133-fcec-4fb1-8ee5-33fe55d782ad",
   "metadata": {},
   "outputs": [],
   "source": [
    "def string_length(string):\n",
    "    return len(string)"
   ]
  },
  {
   "cell_type": "code",
   "execution_count": 6,
   "id": "4b8a74e0-55d3-483b-ad65-092cd3433a77",
   "metadata": {},
   "outputs": [
    {
     "data": {
      "text/plain": [
       "5"
      ]
     },
     "execution_count": 6,
     "metadata": {},
     "output_type": "execute_result"
    }
   ],
   "source": [
    "string_length(\"Hello\")"
   ]
  },
  {
   "cell_type": "markdown",
   "id": "4f940a21-5052-4cf3-85ed-ec3f0b757f55",
   "metadata": {},
   "source": [
    "- Write a function that takes a list of strings as an argument and returns the length of the longest string in the list."
   ]
  },
  {
   "cell_type": "code",
   "execution_count": 7,
   "id": "5ad1b6ba-f2a0-4cd2-ab9e-daf2ee67f102",
   "metadata": {},
   "outputs": [],
   "source": [
    "def longest_string_length(stringlist):\n",
    "    longest_length = 0\n",
    "    for i in stringlist:\n",
    "        if len(i) > longest_length:\n",
    "            longest_length = len(i)\n",
    "    return longest_length"
   ]
  },
  {
   "cell_type": "code",
   "execution_count": 8,
   "id": "23530052-32c9-43d9-9368-6bcd08689995",
   "metadata": {},
   "outputs": [
    {
     "data": {
      "text/plain": [
       "5"
      ]
     },
     "execution_count": 8,
     "metadata": {},
     "output_type": "execute_result"
    }
   ],
   "source": [
    "longest_string_length([\"one\", \"nine\", \"three\"])"
   ]
  },
  {
   "cell_type": "markdown",
   "id": "c32bc5e5-da6a-4fc1-b634-84f58974b6a8",
   "metadata": {},
   "source": [
    "- Write a function that takes a list of numbers as an argument and returns the average of those numbers."
   ]
  },
  {
   "cell_type": "code",
   "execution_count": 10,
   "id": "e2a2b96f-1918-494a-bda5-47d1d5027249",
   "metadata": {},
   "outputs": [],
   "source": [
    "def averagelist(listavg):\n",
    "    return sum(listavg)/ len(listavg)"
   ]
  },
  {
   "cell_type": "code",
   "execution_count": 13,
   "id": "e1ad7d48-cb7a-4393-8c6a-96bb4354ebed",
   "metadata": {},
   "outputs": [
    {
     "data": {
      "text/plain": [
       "3.8"
      ]
     },
     "execution_count": 13,
     "metadata": {},
     "output_type": "execute_result"
    }
   ],
   "source": [
    "averagelist([1, 2, 3, 6, 7])"
   ]
  },
  {
   "cell_type": "markdown",
   "id": "c389e500-46ee-40f6-9c57-17a0649edc63",
   "metadata": {},
   "source": [
    "- Write a function that takes a string as an argument and returns True if the string is a palindrome (reads the same forwards and backwards) and False otherwise."
   ]
  },
  {
   "cell_type": "code",
   "execution_count": 14,
   "id": "d03a375f-5718-4858-b42c-8b05b5f3f5e1",
   "metadata": {},
   "outputs": [],
   "source": [
    "def palindrome(string):\n",
    "    if string == string[::-1]:\n",
    "        return True\n",
    "    else:\n",
    "        return False"
   ]
  },
  {
   "cell_type": "code",
   "execution_count": 15,
   "id": "7f4cc590-1d95-4619-8451-eaebd27132ea",
   "metadata": {},
   "outputs": [
    {
     "data": {
      "text/plain": [
       "True"
      ]
     },
     "execution_count": 15,
     "metadata": {},
     "output_type": "execute_result"
    }
   ],
   "source": [
    "palindrome(\"rotator\")"
   ]
  },
  {
   "cell_type": "markdown",
   "id": "6572eb4a-7322-4def-b606-896135c22124",
   "metadata": {},
   "source": [
    "- Write a function that takes a list of numbers as an argument and returns a new list containing only the even numbers from the original list."
   ]
  },
  {
   "cell_type": "code",
   "execution_count": 16,
   "id": "52a9054a-f8fc-4fa6-b94e-0623a0f7093e",
   "metadata": {},
   "outputs": [],
   "source": [
    "def evenextract(numberlist):\n",
    "    newlist=[]\n",
    "    for i in numberlist:\n",
    "        if i%2==0:\n",
    "            newlist.append(i)\n",
    "    return newlist    \n"
   ]
  },
  {
   "cell_type": "code",
   "execution_count": 17,
   "id": "c8c91a17-7c46-48b6-ae79-cc6bdb94bf8b",
   "metadata": {},
   "outputs": [
    {
     "data": {
      "text/plain": [
       "[2, 4, 6, 8]"
      ]
     },
     "execution_count": 17,
     "metadata": {},
     "output_type": "execute_result"
    }
   ],
   "source": [
    "evenextract([1,2,3,4,5,6,7,8,9])"
   ]
  },
  {
   "cell_type": "markdown",
   "id": "1ba77608-13ac-4dd4-9aa3-322cc099e485",
   "metadata": {},
   "source": [
    "- Write a function that takes a list of numbers as an argument and returns a new list containing the squares of those numbers."
   ]
  },
  {
   "cell_type": "code",
   "execution_count": 18,
   "id": "1e2e22ef-86bd-4f40-af4a-8f2951e2ccbf",
   "metadata": {},
   "outputs": [],
   "source": [
    "def getsquare(numberlist):\n",
    "    squared=[]\n",
    "    for i in numberlist:\n",
    "        x=i**2\n",
    "        squared.append(x)\n",
    "    return squared"
   ]
  },
  {
   "cell_type": "code",
   "execution_count": 19,
   "id": "c8e84052-20e3-4031-88bf-a984b4f58063",
   "metadata": {},
   "outputs": [
    {
     "data": {
      "text/plain": [
       "[1, 4, 9, 16, 25, 36, 49, 64, 81]"
      ]
     },
     "execution_count": 19,
     "metadata": {},
     "output_type": "execute_result"
    }
   ],
   "source": [
    "getsquare([1,2,3,4,5,6,7,8,9])"
   ]
  }
 ],
 "metadata": {
  "kernelspec": {
   "display_name": "Python 3 (ipykernel)",
   "language": "python",
   "name": "python3"
  },
  "language_info": {
   "codemirror_mode": {
    "name": "ipython",
    "version": 3
   },
   "file_extension": ".py",
   "mimetype": "text/x-python",
   "name": "python",
   "nbconvert_exporter": "python",
   "pygments_lexer": "ipython3",
   "version": "3.10.9"
  }
 },
 "nbformat": 4,
 "nbformat_minor": 5
}
