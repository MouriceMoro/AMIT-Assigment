{
 "cells": [
  {
   "cell_type": "markdown",
   "id": "603da3dd-dd2a-4d67-8e1b-4b1873034bc2",
   "metadata": {},
   "source": [
    "# Variable"
   ]
  },
  {
   "cell_type": "markdown",
   "id": "a36c6e23-e6b9-40e7-8b82-0d5f53764e92",
   "metadata": {},
   "source": [
    "### Create a variable named carname and assign the value Volvo to it."
   ]
  },
  {
   "cell_type": "code",
   "execution_count": 1,
   "id": "c2b5e6f9-f3ad-4a62-99f9-405583f1a4e5",
   "metadata": {},
   "outputs": [],
   "source": [
    "carname = \"Volvo\""
   ]
  },
  {
   "cell_type": "code",
   "execution_count": null,
   "id": "b8d29377-5a18-40e5-95f3-2cf0dec9353b",
   "metadata": {},
   "outputs": [],
   "source": []
  },
  {
   "cell_type": "markdown",
   "id": "0c813171-7f74-478a-bdc7-def82a3fcf45",
   "metadata": {},
   "source": [
    "### Create a variable named x and assign the value 50 to it."
   ]
  },
  {
   "cell_type": "code",
   "execution_count": null,
   "id": "35f9ffb9-f10f-4404-90e9-9116ea5e9822",
   "metadata": {},
   "outputs": [],
   "source": [
    "x=50"
   ]
  },
  {
   "cell_type": "markdown",
   "id": "5e34e456-21db-4524-8507-201dd7f394c5",
   "metadata": {},
   "source": [
    "### Display the sum of 5 + 10, using two variables: x and y."
   ]
  },
  {
   "cell_type": "code",
   "execution_count": 2,
   "id": "546a7268-c296-43b4-8a1b-5d0d3c0e1ae6",
   "metadata": {},
   "outputs": [
    {
     "name": "stdout",
     "output_type": "stream",
     "text": [
      "The value of 5 + 10 is: 15\n"
     ]
    }
   ],
   "source": [
    "x=5\n",
    "y=10\n",
    "\n",
    "sum = x + y\n",
    "\n",
    "print(\"The value of 5 + 10 is:\", sum)"
   ]
  },
  {
   "cell_type": "markdown",
   "id": "faf5e015-4bf7-44b1-b9fc-cfa7e7b313b6",
   "metadata": {},
   "source": [
    "### Create a variable called z, assign x + y to it, and display the result."
   ]
  },
  {
   "cell_type": "code",
   "execution_count": 3,
   "id": "0a48f27f-c7e8-440a-a3a8-c352d68d83d0",
   "metadata": {},
   "outputs": [
    {
     "name": "stdout",
     "output_type": "stream",
     "text": [
      "The value of 5 + 10 is: 15\n"
     ]
    }
   ],
   "source": [
    "x=5\n",
    "y=10\n",
    "\n",
    "z = x + y\n",
    "\n",
    "print(\"The value of 5 + 10 is:\", z)"
   ]
  },
  {
   "cell_type": "markdown",
   "id": "46b20367-d6dd-43bd-812d-081707c8d77c",
   "metadata": {},
   "source": [
    "### Remove the illegal characters in the variable name:"
   ]
  },
  {
   "cell_type": "code",
   "execution_count": 5,
   "id": "9aae4c3d-42ee-474f-b35c-1e6c6ea7006f",
   "metadata": {},
   "outputs": [
    {
     "name": "stdout",
     "output_type": "stream",
     "text": [
      "Enter a variable name: sljfei773%#f\n",
      "Cleaned variable name: sljfeif\n"
     ]
    }
   ],
   "source": [
    "illegal_chars = \"0123456789!@#$%^&*()-+=[]{}|\\\\;:'\\\",.<>/?`~ \"\n",
    "\n",
    "\n",
    "userinput = input(\"Enter a variable name: \")\n",
    "\n",
    "cleanedname= \"\"\n",
    "\n",
    "for char in userinput:\n",
    "    if char not in illegal_chars:\n",
    "        cleanedname += char\n",
    "    else:\n",
    "        cleanedname += ''\n",
    "        \n",
    "print(\"Cleaned variable name:\", cleanedname)"
   ]
  },
  {
   "cell_type": "markdown",
   "id": "0fbfc855-3a35-4353-827e-25acb9ef775c",
   "metadata": {},
   "source": [
    "### Insert the correct syntax to assign the same value to all three variables in one code line."
   ]
  },
  {
   "cell_type": "code",
   "execution_count": null,
   "id": "a94bd700-aa8a-404d-8c86-2ba62f2a2033",
   "metadata": {},
   "outputs": [],
   "source": [
    "variable1 = variable2 = variable3 = 5"
   ]
  },
  {
   "cell_type": "markdown",
   "id": "a4429e16-318a-4356-97ef-1f82e024851a",
   "metadata": {},
   "source": [
    "### The following code example would print the data type of x, what data type would that be?"
   ]
  },
  {
   "cell_type": "code",
   "execution_count": 6,
   "id": "b65e4619-e2ba-4038-84ea-d55368fe2005",
   "metadata": {},
   "outputs": [
    {
     "name": "stdout",
     "output_type": "stream",
     "text": [
      "<class 'int'>\n"
     ]
    }
   ],
   "source": [
    "x = 42  \n",
    "print(type(x))"
   ]
  },
  {
   "cell_type": "markdown",
   "id": "8e71a3a3-98c7-468f-9ce5-deb83e463493",
   "metadata": {},
   "source": [
    "### The following code example would print the data type of x, what data type would that be?"
   ]
  },
  {
   "cell_type": "code",
   "execution_count": 7,
   "id": "c7672850-7f68-44bb-940e-c88583acb8e6",
   "metadata": {},
   "outputs": [
    {
     "name": "stdout",
     "output_type": "stream",
     "text": [
      "<class 'str'>\n"
     ]
    }
   ],
   "source": [
    "x = 'sddfs'  \n",
    "print(type(x))"
   ]
  },
  {
   "cell_type": "markdown",
   "id": "648df91e-a510-415e-8ede-fe230f42d08e",
   "metadata": {},
   "source": [
    "### The following code example would print the data type of x, what data type would that be?"
   ]
  },
  {
   "cell_type": "code",
   "execution_count": 8,
   "id": "b6e9c46a-c5f2-4204-962e-94a858d5e8b8",
   "metadata": {},
   "outputs": [
    {
     "name": "stdout",
     "output_type": "stream",
     "text": [
      "<class 'list'>\n"
     ]
    }
   ],
   "source": [
    "x=[1,2,3]\n",
    "print(type(x))"
   ]
  },
  {
   "cell_type": "code",
   "execution_count": null,
   "id": "5692c283-9e8e-4ed3-92f9-380ccb458c8b",
   "metadata": {},
   "outputs": [],
   "source": []
  },
  {
   "cell_type": "markdown",
   "id": "6faf1947-93d3-4c3e-8ed8-635c564b119e",
   "metadata": {},
   "source": [
    "### The following code example would print the data type of x, what data type would that be?"
   ]
  },
  {
   "cell_type": "code",
   "execution_count": 10,
   "id": "2e276bc0-5a3f-44e3-8090-10f3e856133a",
   "metadata": {},
   "outputs": [
    {
     "name": "stdout",
     "output_type": "stream",
     "text": [
      "<class 'tuple'>\n"
     ]
    }
   ],
   "source": [
    "x=(1,2,3)\n",
    "print(type(x))"
   ]
  },
  {
   "cell_type": "markdown",
   "id": "af9e52fa-d76c-4650-81f1-ae8b6e86ffb0",
   "metadata": {},
   "source": [
    "### The following code example would print the data type of x, what data type would that be?"
   ]
  },
  {
   "cell_type": "code",
   "execution_count": 11,
   "id": "44d444f9-5e6b-4591-af82-44c0ac896781",
   "metadata": {},
   "outputs": [
    {
     "name": "stdout",
     "output_type": "stream",
     "text": [
      "<class 'set'>\n"
     ]
    }
   ],
   "source": [
    "x={3,4,5}\n",
    "print(type(x))"
   ]
  },
  {
   "cell_type": "code",
   "execution_count": null,
   "id": "0a4939f0-aea1-49f5-9efd-fcc70bc875b0",
   "metadata": {},
   "outputs": [],
   "source": []
  },
  {
   "cell_type": "markdown",
   "id": "a6fc5db7-6053-4be5-999d-34868310328b",
   "metadata": {},
   "source": [
    "### The following code example would print the data type of x, what data type would that be?"
   ]
  },
  {
   "cell_type": "code",
   "execution_count": 13,
   "id": "93aceca0-52d2-4d65-bcfe-6656fdbd66d4",
   "metadata": {},
   "outputs": [
    {
     "name": "stdout",
     "output_type": "stream",
     "text": [
      "<class 'float'>\n"
     ]
    }
   ],
   "source": [
    "x=123.4\n",
    "print(type(x))"
   ]
  },
  {
   "cell_type": "code",
   "execution_count": null,
   "id": "54723ed6-50d0-4d48-9c67-e8891d0415ab",
   "metadata": {},
   "outputs": [],
   "source": []
  },
  {
   "cell_type": "markdown",
   "id": "9cf46469-b51d-497a-9232-059c7917d334",
   "metadata": {},
   "source": [
    "### The following code example would print the data type of x, what data type would that be?"
   ]
  },
  {
   "cell_type": "code",
   "execution_count": 22,
   "id": "9170ff59-6613-4bfb-8887-4d9c0fb01597",
   "metadata": {},
   "outputs": [
    {
     "name": "stdout",
     "output_type": "stream",
     "text": [
      "<class 'str'>\n"
     ]
    }
   ],
   "source": [
    "x='''fgdfdgdf'''\n",
    "print(type(x))"
   ]
  },
  {
   "cell_type": "code",
   "execution_count": null,
   "id": "ef83fae1-718f-486d-9686-7a2db64d7b26",
   "metadata": {},
   "outputs": [],
   "source": []
  },
  {
   "cell_type": "markdown",
   "id": "c1834315-cbda-4bcf-99ba-ff6d47c4ac4f",
   "metadata": {},
   "source": [
    "### Insert the correct syntax to convert x into a floating point number."
   ]
  },
  {
   "cell_type": "code",
   "execution_count": 28,
   "id": "40691bb2-39ac-4de2-8697-2d355ad1a1b9",
   "metadata": {},
   "outputs": [
    {
     "name": "stdout",
     "output_type": "stream",
     "text": [
      "3.0\n"
     ]
    }
   ],
   "source": [
    "x = 3 \n",
    "x = float(x) \n",
    "print(x)"
   ]
  },
  {
   "cell_type": "markdown",
   "id": "0d35abfa-0948-4cb5-b085-745732237631",
   "metadata": {},
   "source": [
    "### Insert the correct syntax to convert x into a integer."
   ]
  },
  {
   "cell_type": "code",
   "execution_count": 27,
   "id": "8fc84b3a-9852-4568-8d60-31e8b37538fa",
   "metadata": {},
   "outputs": [
    {
     "name": "stdout",
     "output_type": "stream",
     "text": [
      "3\n"
     ]
    }
   ],
   "source": [
    "x =3.414 \n",
    "x = int(x) \n",
    "print(x)"
   ]
  },
  {
   "cell_type": "markdown",
   "id": "a10a945f-9aaa-4e48-8d06-47b325ff904b",
   "metadata": {},
   "source": [
    "### Use the len method to print the length of the string."
   ]
  },
  {
   "cell_type": "code",
   "execution_count": 30,
   "id": "c4b29a77-e245-4de7-93f5-68897d5ff8d1",
   "metadata": {},
   "outputs": [
    {
     "name": "stdout",
     "output_type": "stream",
     "text": [
      "Length of the string: 12\n"
     ]
    }
   ],
   "source": [
    "string = \"Hello World!\"\n",
    "length = len(string)\n",
    "print(\"Length of the string:\", length)"
   ]
  },
  {
   "cell_type": "markdown",
   "id": "55b0a95a-c81a-49cf-a1e2-d5a88d03e2ab",
   "metadata": {},
   "source": [
    "### Get the first character of the string txt."
   ]
  },
  {
   "cell_type": "code",
   "execution_count": 32,
   "id": "c6cd4c33-644b-4662-8f06-1b4fca0ce3de",
   "metadata": {},
   "outputs": [],
   "source": [
    "string = \"Hello World!\"\n",
    "\n",
    "first_character = string[0]"
   ]
  },
  {
   "cell_type": "markdown",
   "id": "0f36ccd8-dccd-40e4-8276-e7208e1d6a4c",
   "metadata": {},
   "source": [
    "### Get the characters from index 2 to index 4 (llo)."
   ]
  },
  {
   "cell_type": "code",
   "execution_count": 41,
   "id": "9abf6175-3b7d-4ec5-854e-6f9c83a38fcb",
   "metadata": {},
   "outputs": [
    {
     "name": "stdout",
     "output_type": "stream",
     "text": [
      "llo\n"
     ]
    }
   ],
   "source": [
    "string = \"Hello World!\"\n",
    "\n",
    "characters = string[2:5:1]\n",
    "print(characters)"
   ]
  },
  {
   "cell_type": "markdown",
   "id": "54ab0d95-a3df-42d0-9e63-95eb19e649b9",
   "metadata": {},
   "source": [
    "### Return the string without any whitespace at the beginning or the end."
   ]
  },
  {
   "cell_type": "code",
   "execution_count": 42,
   "id": "35bf2729-b6ac-4636-ab4f-48d950ae2dd8",
   "metadata": {},
   "outputs": [
    {
     "name": "stdout",
     "output_type": "stream",
     "text": [
      "Hello, World!\n"
     ]
    }
   ],
   "source": [
    "string = \"   Hello, World!   \"\n",
    "clean = string.strip()\n",
    "print(clean)"
   ]
  },
  {
   "cell_type": "markdown",
   "id": "c64c52fa-9918-41b3-803d-48cc1dbbe03d",
   "metadata": {},
   "source": [
    "### Convert the value of txt to upper case."
   ]
  },
  {
   "cell_type": "code",
   "execution_count": 26,
   "id": "68843f69-fe5e-45ac-bce7-b354e8c7e2d5",
   "metadata": {},
   "outputs": [],
   "source": [
    "txt=upper(txt)"
   ]
  },
  {
   "cell_type": "markdown",
   "id": "9ef9b9ed-b207-4a09-8a5b-afb160cd10f6",
   "metadata": {},
   "source": [
    "### Convert the value of txt to lower case."
   ]
  },
  {
   "cell_type": "code",
   "execution_count": 27,
   "id": "51e0a2d4-089e-4314-97a8-9e0f807a0d78",
   "metadata": {},
   "outputs": [],
   "source": [
    "txt=lower(txt)"
   ]
  },
  {
   "cell_type": "markdown",
   "id": "e14e92ab-d6fb-4d94-bd77-eb024ed26196",
   "metadata": {},
   "source": [
    "### Replace the character H with a J."
   ]
  },
  {
   "cell_type": "code",
   "execution_count": 43,
   "id": "82ac6564-d90f-49da-9adf-91e00e733555",
   "metadata": {},
   "outputs": [
    {
     "name": "stdout",
     "output_type": "stream",
     "text": [
      "Jello, World!\n"
     ]
    }
   ],
   "source": [
    "txt = \"Hello, World!\"\n",
    "modified_txt = txt.replace(\"H\", \"J\")\n",
    "print(modified_txt)"
   ]
  },
  {
   "cell_type": "markdown",
   "id": "71220cc9-9b56-4b86-a15f-88c65e5ac2fd",
   "metadata": {},
   "source": [
    "### Using format function to print the age "
   ]
  },
  {
   "cell_type": "code",
   "execution_count": 44,
   "id": "2abb0da9-4bad-4d57-88da-ce0ea4aa7acc",
   "metadata": {},
   "outputs": [
    {
     "name": "stdout",
     "output_type": "stream",
     "text": [
      "My age is 30 years.\n"
     ]
    }
   ],
   "source": [
    "age = 30\n",
    "print(\"My age is {} years.\".format(age))"
   ]
  },
  {
   "cell_type": "code",
   "execution_count": null,
   "id": "4bbb2e9f-5d1e-4481-b2e1-c17818134dd1",
   "metadata": {},
   "outputs": [],
   "source": []
  },
  {
   "cell_type": "markdown",
   "id": "c64b96dc-00df-4f95-8c8f-fe0051347e17",
   "metadata": {},
   "source": [
    "### The statement below would print a Boolean value, which one?"
   ]
  },
  {
   "cell_type": "code",
   "execution_count": null,
   "id": "9753dbe4-84df-4579-b687-2a0edd82969c",
   "metadata": {},
   "outputs": [],
   "source": []
  },
  {
   "cell_type": "code",
   "execution_count": null,
   "id": "d917b03f-6b40-429f-9436-cf140ca568fc",
   "metadata": {},
   "outputs": [],
   "source": []
  },
  {
   "cell_type": "code",
   "execution_count": null,
   "id": "1013cb86-5b06-4e01-9cd5-1903d1dd0e64",
   "metadata": {},
   "outputs": [],
   "source": []
  },
  {
   "cell_type": "markdown",
   "id": "9a0e5dd4-7167-4aee-a77d-b3f275ffb134",
   "metadata": {},
   "source": [
    "### Multiply 10 with 5, and print the result."
   ]
  },
  {
   "cell_type": "code",
   "execution_count": null,
   "id": "05bc7bc3-96bf-4d85-b2c7-66f0cdb9cd25",
   "metadata": {},
   "outputs": [],
   "source": [
    "x=10*5\n",
    "print(x)"
   ]
  },
  {
   "cell_type": "markdown",
   "id": "54ae41e5-d151-4033-928f-bb567415d9b2",
   "metadata": {},
   "source": [
    "### Divide 10 by 2, and print the result."
   ]
  },
  {
   "cell_type": "code",
   "execution_count": null,
   "id": "c3020453-0761-4c3b-86a3-bb250356673b",
   "metadata": {},
   "outputs": [],
   "source": [
    "x=10/2\n",
    "print(x)"
   ]
  },
  {
   "cell_type": "markdown",
   "id": "81e7a18b-1990-4ac7-9ba0-79a28ac20543",
   "metadata": {},
   "source": [
    "### Create a list and check if the value in this list or not"
   ]
  },
  {
   "cell_type": "code",
   "execution_count": 45,
   "id": "0bbc9660-d314-4591-a8d3-20338919dd7c",
   "metadata": {},
   "outputs": [
    {
     "name": "stdout",
     "output_type": "stream",
     "text": [
      "The value 30 is present in the list.\n"
     ]
    }
   ],
   "source": [
    "my_list = [10, 20, 30, 40, 50]\n",
    "\n",
    "value_to_check = 30\n",
    "\n",
    "if value_to_check in my_list:\n",
    "    print(\"The value\", value_to_check, \"is present in the list.\")\n",
    "else:\n",
    "    print(\"The value\", value_to_check, \"is not present in the list.\")"
   ]
  },
  {
   "cell_type": "markdown",
   "id": "e8dc98e8-e66c-48aa-b2c5-8a637904ba9e",
   "metadata": {},
   "source": [
    "### Use the correct comparison operator to check if 5 is not equal to 10."
   ]
  },
  {
   "cell_type": "code",
   "execution_count": 47,
   "id": "4f4d0e14-39e9-42c6-9964-c5b91bf49df1",
   "metadata": {},
   "outputs": [
    {
     "name": "stdout",
     "output_type": "stream",
     "text": [
      "5 is not equal to 10.\n"
     ]
    }
   ],
   "source": [
    " if 5 != 10:\n",
    "    print(\"5 is not equal to 10.\")\n",
    "else:\n",
    "    print(\"5 is equal to 10.\")"
   ]
  },
  {
   "cell_type": "markdown",
   "id": "f2fb4f7a-7f61-485e-b248-448b0e8c6f0d",
   "metadata": {},
   "source": [
    "### Use the correct logical operator to check if at least one of two statements is True."
   ]
  },
  {
   "cell_type": "code",
   "execution_count": 48,
   "id": "105e3670-46a9-4ede-86bb-cefe0300f875",
   "metadata": {},
   "outputs": [
    {
     "name": "stdout",
     "output_type": "stream",
     "text": [
      "At least one statement is True.\n"
     ]
    }
   ],
   "source": [
    "statement1 = False\n",
    "statement2 = True\n",
    "\n",
    "if statement1 or statement2:\n",
    "    print(\"At least one statement is True.\")\n",
    "else:\n",
    "    print(\"Both statements are False.\")"
   ]
  },
  {
   "cell_type": "markdown",
   "id": "6ee582b6-70ae-46c9-ac54-b7d12c2f820f",
   "metadata": {},
   "source": [
    "### Print the second item in the fruits list."
   ]
  },
  {
   "cell_type": "code",
   "execution_count": 1,
   "id": "e3b73f12-b857-43c8-8256-fd008046b5a0",
   "metadata": {},
   "outputs": [
    {
     "name": "stdout",
     "output_type": "stream",
     "text": [
      "banana\n"
     ]
    }
   ],
   "source": [
    "fruits = [\"apple\", \"banana\", \"cherry\", \"date\", \"elderberry\"]\n",
    "\n",
    "print(fruits[1])"
   ]
  },
  {
   "cell_type": "code",
   "execution_count": null,
   "id": "ab6fab47-dd75-4f06-bd4d-5e150a847a73",
   "metadata": {},
   "outputs": [],
   "source": []
  },
  {
   "cell_type": "markdown",
   "id": "d566c724-f8f8-4101-95ab-1b41b3162304",
   "metadata": {},
   "source": [
    "### Change the value from \"apple\" to \"kiwi\", in the fruits list."
   ]
  },
  {
   "cell_type": "code",
   "execution_count": 2,
   "id": "fde13c53-997c-478b-82ec-7ecacdcee827",
   "metadata": {},
   "outputs": [
    {
     "name": "stdout",
     "output_type": "stream",
     "text": [
      "['kiwi', 'banana', 'cherry', 'date', 'elderberry']\n"
     ]
    }
   ],
   "source": [
    "fruits = [\"apple\", \"banana\", \"cherry\", \"date\", \"elderberry\"]\n",
    "\n",
    "fruits[0] = \"kiwi\"\n",
    "\n",
    "print(fruits)"
   ]
  },
  {
   "cell_type": "markdown",
   "id": "4ea29bd8-2335-4ff9-9509-15668f2e3b5b",
   "metadata": {},
   "source": [
    "###  Use the append method to add \"orange\" to the fruits list."
   ]
  },
  {
   "cell_type": "code",
   "execution_count": 3,
   "id": "57758855-5cd6-4d2d-985a-79ea4d7b2b63",
   "metadata": {},
   "outputs": [
    {
     "name": "stdout",
     "output_type": "stream",
     "text": [
      "['kiwi', 'banana', 'cherry', 'date', 'elderberry', 'orange']\n"
     ]
    }
   ],
   "source": [
    "fruits.append(\"orange\")\n",
    "\n",
    "print(fruits)"
   ]
  },
  {
   "cell_type": "markdown",
   "id": "97e2b228-758d-4576-9f84-46d89a8a5c58",
   "metadata": {},
   "source": [
    "### Use the insert method to add \"lemon\" as the second item in the fruits list."
   ]
  },
  {
   "cell_type": "code",
   "execution_count": 5,
   "id": "18cd13ae-6504-472c-8dfd-8125c933b441",
   "metadata": {},
   "outputs": [
    {
     "name": "stdout",
     "output_type": "stream",
     "text": [
      "['kiwi', 'lemon', 'cherry', 'date', 'elderberry', 'orange']\n"
     ]
    }
   ],
   "source": [
    "fruits[1]=\"lemon\"\n",
    "\n",
    "print (fruits)"
   ]
  },
  {
   "cell_type": "markdown",
   "id": "601d194b-bcec-4c4a-8b36-2e2c27f9135d",
   "metadata": {},
   "source": [
    "### Use the remove method to remove \"banana\" from the fruits list."
   ]
  },
  {
   "cell_type": "code",
   "execution_count": 8,
   "id": "ee8daa63-7b83-4ca0-bbf3-512e8aae8ab6",
   "metadata": {},
   "outputs": [
    {
     "name": "stdout",
     "output_type": "stream",
     "text": [
      "['apple', 'cherry', 'date', 'elderberry']\n"
     ]
    }
   ],
   "source": [
    "fruits = [\"apple\", \"banana\", \"cherry\", \"date\", \"elderberry\"]\n",
    "\n",
    "fruits.remove(\"banana\")\n",
    "\n",
    "print(fruits)"
   ]
  },
  {
   "cell_type": "markdown",
   "id": "d57a4c60-05bc-4a45-a493-0ed04e4c6ae6",
   "metadata": {},
   "source": [
    "### Use negative indexing to print the last item in the list."
   ]
  },
  {
   "cell_type": "code",
   "execution_count": 9,
   "id": "7713fb23-d310-4f02-a9cc-f2933fcbfc14",
   "metadata": {},
   "outputs": [
    {
     "name": "stdout",
     "output_type": "stream",
     "text": [
      "elderberry\n"
     ]
    }
   ],
   "source": [
    "fruits = [\"apple\", \"banana\", \"cherry\", \"date\", \"elderberry\"]\n",
    "\n",
    "print(fruits[-1])"
   ]
  },
  {
   "cell_type": "markdown",
   "id": "bad4f0bb-2689-4230-a116-8c935f4b798e",
   "metadata": {},
   "source": [
    "### Use a range of indexes to print the third, fourth, and fifth item in the list."
   ]
  },
  {
   "cell_type": "code",
   "execution_count": 20,
   "id": "3f40c9bd-7569-4aae-adfb-4148473db1e4",
   "metadata": {},
   "outputs": [
    {
     "name": "stdout",
     "output_type": "stream",
     "text": [
      "['cherry', 'date', 'elderberry']\n"
     ]
    }
   ],
   "source": [
    "fruits = [\"apple\", \"banana\", \"cherry\", \"date\", \"elderberry\"]\n",
    "\n",
    "print (fruits[2:5])"
   ]
  },
  {
   "cell_type": "code",
   "execution_count": null,
   "id": "5ea9e0b2-8b06-4de7-8750-58a00853b907",
   "metadata": {},
   "outputs": [],
   "source": []
  },
  {
   "cell_type": "markdown",
   "id": "7e193da4-23d8-4103-9cdb-7fd2ea86aef8",
   "metadata": {},
   "source": [
    "### Use the correct syntax to print the number of items in the list."
   ]
  },
  {
   "cell_type": "code",
   "execution_count": 11,
   "id": "1be2a046-0849-4798-86b0-309cedc6ade4",
   "metadata": {},
   "outputs": [
    {
     "name": "stdout",
     "output_type": "stream",
     "text": [
      "5\n"
     ]
    }
   ],
   "source": [
    "print (len(fruits))"
   ]
  },
  {
   "cell_type": "code",
   "execution_count": null,
   "id": "0474c8c3-8c9f-4d18-ba57-6a759b2b29ed",
   "metadata": {},
   "outputs": [],
   "source": []
  },
  {
   "cell_type": "markdown",
   "id": "8bd7ea28-5c20-436f-8c22-94e65739aa11",
   "metadata": {},
   "source": [
    "### Use the correct syntax to print the first item in the fruits tuple."
   ]
  },
  {
   "cell_type": "code",
   "execution_count": 12,
   "id": "fab63d19-ff5f-4b07-b1c9-39a69a213a67",
   "metadata": {},
   "outputs": [
    {
     "name": "stdout",
     "output_type": "stream",
     "text": [
      "apple\n"
     ]
    }
   ],
   "source": [
    "fruits = tuple(fruits)\n",
    "print(fruits [0])"
   ]
  },
  {
   "cell_type": "code",
   "execution_count": null,
   "id": "e3b26189-22a8-4227-b87e-d20f9033de32",
   "metadata": {},
   "outputs": [],
   "source": []
  },
  {
   "cell_type": "markdown",
   "id": "7c9e1d67-6823-4db8-b832-9f7752a23965",
   "metadata": {},
   "source": [
    "### Use the correct syntax to print the number of items in the fruits tuple."
   ]
  },
  {
   "cell_type": "code",
   "execution_count": 13,
   "id": "83d5bc80-3231-49e1-8500-e8baae241fc0",
   "metadata": {},
   "outputs": [
    {
     "name": "stdout",
     "output_type": "stream",
     "text": [
      "5\n"
     ]
    }
   ],
   "source": [
    "print (len(fruits))"
   ]
  },
  {
   "cell_type": "code",
   "execution_count": null,
   "id": "6a564f2a-5a6d-4c26-9e63-2f71a1a7808c",
   "metadata": {},
   "outputs": [],
   "source": []
  },
  {
   "cell_type": "markdown",
   "id": "a9762942-ac9f-4026-834e-a6108253cf00",
   "metadata": {},
   "source": [
    "### Use the add method to add \"orange\" to the fruits set."
   ]
  },
  {
   "cell_type": "code",
   "execution_count": 23,
   "id": "698e14a2-cf20-4cdc-8eac-2e974de599c7",
   "metadata": {},
   "outputs": [
    {
     "name": "stdout",
     "output_type": "stream",
     "text": [
      "{'cherry', 'orange', 'apple', 'date', 'banana', 'elderberry'}\n"
     ]
    }
   ],
   "source": [
    "fruits = {\"apple\", \"banana\", \"cherry\", \"date\", \"elderberry\"}\n",
    "\n",
    "fruits.add(\"orange\")\n",
    "\n",
    "print(fruits)"
   ]
  },
  {
   "cell_type": "code",
   "execution_count": null,
   "id": "05882b88-98c5-4015-b9f4-294bc25ac6f0",
   "metadata": {},
   "outputs": [],
   "source": []
  },
  {
   "cell_type": "markdown",
   "id": "ca1f7a4d-f1da-4a3f-92c1-1c8be39e1843",
   "metadata": {},
   "source": [
    "### Use the correct method to add multiple items (more_fruits) to the fruits set."
   ]
  },
  {
   "cell_type": "code",
   "execution_count": 24,
   "id": "2440b65a-b686-49a3-843b-c9cc0471fabe",
   "metadata": {},
   "outputs": [
    {
     "name": "stdout",
     "output_type": "stream",
     "text": [
      "{'kiwi', 'cherry', 'orange', 'grape', 'apple', 'date', 'banana', 'elderberry'}\n"
     ]
    }
   ],
   "source": [
    "fruits = {\"apple\", \"banana\", \"cherry\", \"date\", \"elderberry\"}\n",
    "more_fruits = [\"orange\", \"grape\", \"kiwi\"]\n",
    "\n",
    "fruits.update(more_fruits)\n",
    "\n",
    "print(fruits)"
   ]
  },
  {
   "cell_type": "code",
   "execution_count": null,
   "id": "77b01d25-5578-4f36-be03-083e4cf1e225",
   "metadata": {},
   "outputs": [],
   "source": []
  },
  {
   "cell_type": "markdown",
   "id": "57f18a2d-dc25-46b2-b59c-70ba30c2a863",
   "metadata": {},
   "source": [
    "### Use the remove method to remove \"banana\" from the fruits set."
   ]
  },
  {
   "cell_type": "code",
   "execution_count": 26,
   "id": "14ca857c-9854-4cf4-9663-056ef842cf21",
   "metadata": {},
   "outputs": [
    {
     "name": "stdout",
     "output_type": "stream",
     "text": [
      "{'cherry', 'apple', 'date', 'elderberry'}\n"
     ]
    }
   ],
   "source": [
    "fruits = {\"apple\", \"banana\", \"cherry\", \"date\", \"elderberry\"}\n",
    "\n",
    "fruits.remove(\"banana\")\n",
    "\n",
    "print(fruits)"
   ]
  },
  {
   "cell_type": "code",
   "execution_count": null,
   "id": "e588ac5f-755c-4103-b2ce-ec1f0d537bcb",
   "metadata": {},
   "outputs": [],
   "source": []
  },
  {
   "cell_type": "markdown",
   "id": "215915fa-5ce8-43a2-9c8e-69031d5bb1a5",
   "metadata": {},
   "source": [
    "### Use the get method to print the value of the \"model\" key of the car dictionary."
   ]
  },
  {
   "cell_type": "code",
   "execution_count": 28,
   "id": "151fe2ae-6cca-4424-8452-a8025d3f8bbe",
   "metadata": {},
   "outputs": [
    {
     "name": "stdout",
     "output_type": "stream",
     "text": [
      "The model of the car is: Camry\n"
     ]
    }
   ],
   "source": [
    "car = {\"brand\": \"Toyota\", \"model\": \"Camry\", \"year\": 1964}\n",
    "\n",
    "modelvalue = car.get(\"model\")\n",
    "\n",
    "print(\"The model of the car is:\", modelvalue)"
   ]
  },
  {
   "cell_type": "code",
   "execution_count": null,
   "id": "d11d31df-64cc-45a4-aa40-13ed74660fb7",
   "metadata": {},
   "outputs": [],
   "source": []
  },
  {
   "cell_type": "markdown",
   "id": "c62ef6ee-c55c-47b5-8917-42dfccb63916",
   "metadata": {},
   "source": [
    "### Change the \"year\" value from 1964 to 2020."
   ]
  },
  {
   "cell_type": "code",
   "execution_count": 29,
   "id": "c55cc487-efb8-4593-8a8d-75812c734438",
   "metadata": {},
   "outputs": [
    {
     "name": "stdout",
     "output_type": "stream",
     "text": [
      "{'brand': 'Toyota', 'model': 'Camry', 'year': 2020}\n"
     ]
    }
   ],
   "source": [
    "car = {\"brand\": \"Toyota\", \"model\": \"Camry\", \"year\": 1964}\n",
    "\n",
    "car[\"year\"] = 2020\n",
    "\n",
    "print(car)"
   ]
  },
  {
   "cell_type": "markdown",
   "id": "256826b2-e415-4046-a675-dd6c93c71820",
   "metadata": {},
   "source": [
    "### Add the key/value pair \"color\" : \"red\" to the car dictionary."
   ]
  },
  {
   "cell_type": "code",
   "execution_count": 30,
   "id": "5c5ef545-3a3b-4ec3-8a18-b6a7b88c7bf3",
   "metadata": {},
   "outputs": [
    {
     "name": "stdout",
     "output_type": "stream",
     "text": [
      "{'brand': 'Toyota', 'model': 'Camry', 'year': 2020, 'color': 'red'}\n"
     ]
    }
   ],
   "source": [
    "car = {\"brand\": \"Toyota\", \"model\": \"Camry\", \"year\": 2020}\n",
    "\n",
    "car[\"color\"] = \"red\"\n",
    "\n",
    "print(car)"
   ]
  },
  {
   "cell_type": "markdown",
   "id": "9b1812b0-d717-47cf-a36b-742ef987ffe4",
   "metadata": {},
   "source": [
    "### Use the pop method to remove \"model\" from the car dictionary."
   ]
  },
  {
   "cell_type": "code",
   "execution_count": 34,
   "id": "0f09fff9-7925-41b6-ba66-1364a3c244d2",
   "metadata": {},
   "outputs": [
    {
     "name": "stdout",
     "output_type": "stream",
     "text": [
      "{'brand': 'Toyota', 'year': 2020}\n"
     ]
    }
   ],
   "source": [
    "car = {\"brand\": \"Toyota\", \"model\": \"Camry\", \"year\": 2020}\n",
    "\n",
    "car.pop(\"model\")\n",
    "\n",
    "print(car)"
   ]
  },
  {
   "cell_type": "markdown",
   "id": "aa97bedb-407d-4e9a-90b2-9ec5b83e56b9",
   "metadata": {},
   "source": [
    "### Use the clear method to empty the car dictionary."
   ]
  },
  {
   "cell_type": "code",
   "execution_count": 35,
   "id": "7eea2c88-8896-4292-9901-4280be58b47e",
   "metadata": {
    "scrolled": true
   },
   "outputs": [
    {
     "name": "stdout",
     "output_type": "stream",
     "text": [
      "{}\n"
     ]
    }
   ],
   "source": [
    "car = {\"brand\": \"Toyota\", \"model\": \"Camry\", \"year\": 2020}\n",
    "\n",
    "car.clear()\n",
    "\n",
    "print(car)"
   ]
  },
  {
   "cell_type": "markdown",
   "id": "2c109c72-f1f3-4707-ae51-a0431de35b6c",
   "metadata": {},
   "source": [
    "### Print \"1\" if a is equal to b, print \"2\" if a is greater than b, otherwise print \"3\"."
   ]
  },
  {
   "cell_type": "code",
   "execution_count": 3,
   "id": "ec612bd1-3f3e-47da-bd95-463444462451",
   "metadata": {},
   "outputs": [
    {
     "name": "stdout",
     "output_type": "stream",
     "text": [
      "3\n"
     ]
    }
   ],
   "source": [
    "a=1\n",
    "b=2\n",
    "if a==b:\n",
    "    print (1)\n",
    "elif a>b:\n",
    "    print (2)\n",
    "else: \n",
    "    print (3)"
   ]
  },
  {
   "cell_type": "markdown",
   "id": "d09e2baf-aef1-4b76-95fb-662b17c34916",
   "metadata": {},
   "source": [
    "### This example misses indentations to be correct.\n",
    "\n",
    "Insert the missing indentation to make the code correct:"
   ]
  },
  {
   "cell_type": "code",
   "execution_count": null,
   "id": "74a4b43b-ab5a-4ff3-812b-9c45777105bf",
   "metadata": {},
   "outputs": [],
   "source": []
  },
  {
   "cell_type": "markdown",
   "id": "054de106-f548-49d5-8acd-1bdf22f21745",
   "metadata": {},
   "source": [
    "### Use the correct short hand syntax to write the following conditional expression in one line:"
   ]
  },
  {
   "cell_type": "code",
   "execution_count": null,
   "id": "7688d212-947e-4bef-a4cc-f497876e8d52",
   "metadata": {},
   "outputs": [],
   "source": []
  },
  {
   "cell_type": "markdown",
   "id": "d050a1bb-fb46-4563-8304-20815f2bbe39",
   "metadata": {},
   "source": [
    "### Print i as long as i is less than 6."
   ]
  },
  {
   "cell_type": "code",
   "execution_count": 4,
   "id": "6c6fa651-644c-42c9-9f79-0276c08d779e",
   "metadata": {},
   "outputs": [
    {
     "name": "stdout",
     "output_type": "stream",
     "text": [
      "0\n",
      "1\n",
      "2\n",
      "3\n",
      "4\n",
      "5\n"
     ]
    }
   ],
   "source": [
    "   i = 0\n",
    "\n",
    "while i < 6:\n",
    "    print(i)\n",
    "    i += 1\n",
    "    "
   ]
  },
  {
   "cell_type": "markdown",
   "id": "3179e656-27a0-4091-ba20-4e00cb599ee5",
   "metadata": {},
   "source": [
    "### Stop the loop if i is 3."
   ]
  },
  {
   "cell_type": "code",
   "execution_count": 5,
   "id": "e40e62a4-a735-41ed-8f88-4ceca9aecd6d",
   "metadata": {},
   "outputs": [
    {
     "name": "stdout",
     "output_type": "stream",
     "text": [
      "0\n",
      "1\n",
      "2\n"
     ]
    }
   ],
   "source": [
    "i = 0\n",
    "\n",
    "while i < 6:\n",
    "    print(i)\n",
    "    i += 1\n",
    "    if i==3:\n",
    "        break"
   ]
  },
  {
   "cell_type": "markdown",
   "id": "f17c6930-5de2-4c3f-85f8-1b50ff015113",
   "metadata": {},
   "source": [
    "### In the loop, when i is 3, jump directly to the next iteration."
   ]
  },
  {
   "cell_type": "code",
   "execution_count": 10,
   "id": "b7936308-802b-493b-aad4-f6fdfb0f0c00",
   "metadata": {},
   "outputs": [
    {
     "name": "stdout",
     "output_type": "stream",
     "text": [
      "0\n",
      "1\n",
      "2\n",
      "4\n",
      "5\n"
     ]
    }
   ],
   "source": [
    "i = 0\n",
    "\n",
    "while i < 6:\n",
    "    print(i)\n",
    "    i += 1\n",
    "    if i == 3:\n",
    "        i += 1\n",
    "        continue"
   ]
  },
  {
   "cell_type": "markdown",
   "id": "c84bc758-2768-4afc-b32f-653259f4184e",
   "metadata": {},
   "source": [
    "### Print a message once the condition is false."
   ]
  },
  {
   "cell_type": "code",
   "execution_count": 11,
   "id": "8aa1c3e1-2fb0-4933-b6c3-295eaafb2f46",
   "metadata": {},
   "outputs": [
    {
     "name": "stdout",
     "output_type": "stream",
     "text": [
      "0\n",
      "1\n",
      "2\n",
      "4\n",
      "5\n",
      "The loop has ended.\n"
     ]
    }
   ],
   "source": [
    "i = 0\n",
    "\n",
    "while i < 6:\n",
    "    if i == 3:\n",
    "        i += 1\n",
    "        continue\n",
    "\n",
    "    print(i)\n",
    "    i += 1\n",
    "else:\n",
    "    print(\"The loop has ended.\")"
   ]
  },
  {
   "cell_type": "markdown",
   "id": "c46270d6-095a-4a35-9383-4eb09d9065b7",
   "metadata": {},
   "source": [
    "### In the loop, when the item value is \"banana\", jump directly to the next item."
   ]
  },
  {
   "cell_type": "code",
   "execution_count": 12,
   "id": "e8b275f9-8f0a-4e06-9990-716dc25afcd7",
   "metadata": {},
   "outputs": [
    {
     "name": "stdout",
     "output_type": "stream",
     "text": [
      "apple\n",
      "cherry\n",
      "date\n",
      "elderberry\n"
     ]
    }
   ],
   "source": [
    "fruits = [\"apple\", \"banana\", \"cherry\", \"date\", \"elderberry\"]\n",
    "\n",
    "for fruit in fruits:\n",
    "    if fruit == \"banana\":\n",
    "        continue\n",
    "\n",
    "    print(fruit)"
   ]
  },
  {
   "cell_type": "markdown",
   "id": "8a8a86f1-e6a8-44ae-9350-3151f861ab21",
   "metadata": {},
   "source": [
    "### Use the range function to loop through a code set 6 times."
   ]
  },
  {
   "cell_type": "code",
   "execution_count": 16,
   "id": "458cf00a-ef0e-4577-9182-010f07635dd1",
   "metadata": {},
   "outputs": [
    {
     "name": "stdout",
     "output_type": "stream",
     "text": [
      "loop 0\n",
      "loop 1\n",
      "loop 2\n",
      "loop 3\n",
      "loop 4\n",
      "loop 5\n"
     ]
    }
   ],
   "source": [
    "for i in range(6):\n",
    "    print(\"loop\", i)"
   ]
  },
  {
   "cell_type": "markdown",
   "id": "0225aa9a-9f5d-4c68-80ce-2db42ee8e6c1",
   "metadata": {},
   "source": [
    "### Exit the loop when x is \"banana\"."
   ]
  },
  {
   "cell_type": "code",
   "execution_count": 14,
   "id": "4b0e8e1d-c4fd-41a6-9805-2571fd6ff0f9",
   "metadata": {},
   "outputs": [
    {
     "name": "stdout",
     "output_type": "stream",
     "text": [
      "apple\n"
     ]
    }
   ],
   "source": [
    "fruits = [\"apple\", \"banana\", \"cherry\", \"date\", \"elderberry\"]\n",
    "\n",
    "for x in fruits:\n",
    "    if x == \"banana\":\n",
    "        break\n",
    "\n",
    "    print(x)"
   ]
  },
  {
   "cell_type": "markdown",
   "id": "4aaa9554-31d5-4f68-bb49-6ce1a512bc64",
   "metadata": {},
   "source": [
    "### Create a function named my_function."
   ]
  },
  {
   "cell_type": "code",
   "execution_count": 18,
   "id": "e0c67545-091b-4074-acbb-1ac93d30518c",
   "metadata": {},
   "outputs": [],
   "source": [
    "def my_function():\n",
    "    \n",
    "    print(\"This is my function!\")\n"
   ]
  },
  {
   "cell_type": "markdown",
   "id": "4a2af30a-ea48-4eed-977c-d1c7b3008d57",
   "metadata": {},
   "source": [
    "### Execute a function named my_function."
   ]
  },
  {
   "cell_type": "code",
   "execution_count": 19,
   "id": "4e075e0b-07fc-4e23-bcca-4f7bca22caf8",
   "metadata": {},
   "outputs": [
    {
     "name": "stdout",
     "output_type": "stream",
     "text": [
      "This is my function!\n"
     ]
    }
   ],
   "source": [
    "my_function()"
   ]
  },
  {
   "cell_type": "markdown",
   "id": "6769bea8-8695-4dfa-aa46-cb93315f96c8",
   "metadata": {},
   "source": [
    "### Inside a function with two parameters, print the first parameter."
   ]
  },
  {
   "cell_type": "code",
   "execution_count": 23,
   "id": "39fdfdfa-8880-485b-947b-9d46731df998",
   "metadata": {},
   "outputs": [
    {
     "name": "stdout",
     "output_type": "stream",
     "text": [
      "First parameter: Hello\n"
     ]
    }
   ],
   "source": [
    "def print_first_parameter(a, b):\n",
    "    print(\"First parameter:\", a)\n",
    "\n",
    "print_first_parameter(\"Hello\", \"World\")"
   ]
  },
  {
   "cell_type": "markdown",
   "id": "c8b211d7-90c5-4bdc-8563-7d6943f1f2bd",
   "metadata": {},
   "source": [
    "### Let the function return the x parameter + 5."
   ]
  },
  {
   "cell_type": "code",
   "execution_count": 26,
   "id": "d0418bc7-5a7f-4b3a-8f7d-09a2a75b4cd9",
   "metadata": {},
   "outputs": [
    {
     "name": "stdout",
     "output_type": "stream",
     "text": [
      "Result: 15\n"
     ]
    }
   ],
   "source": [
    "def add_five_to_param(a):\n",
    "    result = a + 5\n",
    "    return result\n",
    "\n",
    "result_value = add_five_to_param(10)\n",
    "print(\"Result:\", result_value)"
   ]
  },
  {
   "cell_type": "markdown",
   "id": "70b78432-36dc-42a9-9bda-757d5ac5ad3d",
   "metadata": {},
   "source": [
    "### If you do not know the number of arguments that will be passed into your function, there is a prefix you can add in the function definition, which prefix?"
   ]
  },
  {
   "cell_type": "code",
   "execution_count": 27,
   "id": "4bdee11e-4fbf-455a-b34c-dc26d437be13",
   "metadata": {},
   "outputs": [
    {
     "name": "stdout",
     "output_type": "stream",
     "text": [
      "apple\n",
      "banana\n",
      "cherry\n"
     ]
    }
   ],
   "source": [
    "def my_function(*args):\n",
    "    for arg in args:\n",
    "        print(arg)\n",
    "\n",
    "my_function(\"apple\", \"banana\", \"cherry\")"
   ]
  },
  {
   "cell_type": "markdown",
   "id": "88f3d303-a8f1-4ab6-ace2-0f63bfd86652",
   "metadata": {},
   "source": [
    "### If you do not know the number of keyword arguments that will be passed into your function, there is a prefix you can add in the function definition, which prefix?"
   ]
  },
  {
   "cell_type": "code",
   "execution_count": 29,
   "id": "e8c1c2b7-7414-422d-bce0-8e970ba29b90",
   "metadata": {},
   "outputs": [
    {
     "name": "stdout",
     "output_type": "stream",
     "text": [
      "name : Yara\n",
      "age : 21\n",
      "city : Tokyo\n"
     ]
    }
   ],
   "source": [
    "def my_function(**y):\n",
    "    for key, value in y.items():\n",
    "        print(key, \":\", value)\n",
    "\n",
    "\n",
    "my_function(name=\"Yara\", age=21, city=\"Tokyo\")"
   ]
  },
  {
   "cell_type": "markdown",
   "id": "c9e76f27-aecd-4b55-b45e-bad1e14ed321",
   "metadata": {},
   "source": [
    "### Create a lambda function that takes one parameter (a) and returns it."
   ]
  },
  {
   "cell_type": "code",
   "execution_count": 30,
   "id": "0d356a93-6fb5-4603-b108-5b82e6de6bfd",
   "metadata": {},
   "outputs": [
    {
     "name": "stdout",
     "output_type": "stream",
     "text": [
      "42\n"
     ]
    }
   ],
   "source": [
    "return_a = lambda a: a\n",
    "\n",
    "result = return_a(42)\n",
    "print(result)"
   ]
  },
  {
   "cell_type": "markdown",
   "id": "99ec0a9b-226b-440e-a4a3-ca096c11f261",
   "metadata": {},
   "source": [
    "### Implement a function to find all prime numbers up to a given number n. Assume n is a positive integer."
   ]
  },
  {
   "cell_type": "code",
   "execution_count": 33,
   "id": "125a4b46-0132-4b78-9a3e-deb5ace46b51",
   "metadata": {},
   "outputs": [
    {
     "name": "stdout",
     "output_type": "stream",
     "text": [
      "Prime numbers up to 30 are: [2, 3, 5, 7, 11, 13, 17, 19, 23, 29]\n"
     ]
    }
   ],
   "source": [
    "def find_primes_up_to_n(n):\n",
    "    \n",
    "    primes = [True] * (n + 1)\n",
    "    primes[0] = primes[1] = False  \n",
    "\n",
    "    \n",
    "    p = 2\n",
    "    while p * p <= n:\n",
    "        if primes[p]:\n",
    "            for i in range(p * p, n + 1, p):\n",
    "                primes[i] = False\n",
    "        p += 1\n",
    "\n",
    "  \n",
    "    prime_numbers = [num for num in range(n + 1) if primes[num]]\n",
    "    return prime_numbers\n",
    "\n",
    "n = 30\n",
    "prime_numbers = find_primes_up_to_n(n)\n",
    "print(\"Prime numbers up to\", n, \"are:\", prime_numbers)\n",
    "\n",
    "\n",
    "\n",
    "\n",
    "\n",
    "\n"
   ]
  },
  {
   "cell_type": "markdown",
   "id": "bb48fac7-98ce-4b88-9167-0da6a08a2f93",
   "metadata": {},
   "source": [
    "###  Implement a generator function to generate the Fibonacci sequence up to a given n terms."
   ]
  },
  {
   "cell_type": "code",
   "execution_count": 36,
   "id": "9e745b23-86f3-4502-afa7-fd878c47be14",
   "metadata": {},
   "outputs": [
    {
     "name": "stdout",
     "output_type": "stream",
     "text": [
      "Enter the number of terms for the Fibonacci sequence: 10\n",
      "Fibonacci sequence up to 10 terms: [0, 1, 1, 2, 3, 5, 8, 13, 21, 34]\n"
     ]
    }
   ],
   "source": [
    "def fibonacci_generator(n):\n",
    "    a, b = 0, 1\n",
    "    count = 0\n",
    "\n",
    "    while count < n:\n",
    "        yield a\n",
    "        a, b = b, a + b\n",
    "        count += 1\n",
    "\n",
    "n_terms = int(input(\"Enter the number of terms for the Fibonacci sequence: \"))\n",
    "fibonacci_sequence = list(fibonacci_generator(n_terms))\n",
    "print(\"Fibonacci sequence up to\", n_terms, \"terms:\", fibonacci_sequence)\n"
   ]
  },
  {
   "cell_type": "markdown",
   "id": "4139a12a-c3b8-4d36-bff1-524dec8edf6f",
   "metadata": {},
   "source": [
    "### Write a function to compute the power of a number x raised to the power n using recursion."
   ]
  },
  {
   "cell_type": "code",
   "execution_count": 39,
   "id": "c89dae52-1974-4d18-9eef-ad1b96051dfb",
   "metadata": {},
   "outputs": [
    {
     "name": "stdout",
     "output_type": "stream",
     "text": [
      "2 raised to the power 5 is: 32\n"
     ]
    }
   ],
   "source": [
    "def power(x, n):\n",
    "    if n == 0:\n",
    "        return 1\n",
    "    elif n < 0:\n",
    "        return 1 / power(x, -n)\n",
    "    else:\n",
    "        return x * power(x, n - 1)\n",
    "\n",
    "x = 2\n",
    "n = 5\n",
    "result = power(x, n)\n",
    "print(f\"{x} raised to the power {n} is:\", result)\n"
   ]
  },
  {
   "cell_type": "code",
   "execution_count": null,
   "id": "50f10d5a-5d17-421a-b6b6-e40d59c00e7f",
   "metadata": {},
   "outputs": [],
   "source": []
  },
  {
   "cell_type": "code",
   "execution_count": null,
   "id": "264a418a-4652-4ccf-9a5d-8de4d9e1b003",
   "metadata": {},
   "outputs": [],
   "source": []
  },
  {
   "cell_type": "code",
   "execution_count": null,
   "id": "d8932655-3c1b-4f42-bfa2-9c5145d4cbec",
   "metadata": {},
   "outputs": [],
   "source": []
  },
  {
   "cell_type": "code",
   "execution_count": null,
   "id": "04333d5e-4df2-4abd-afac-02de79f7fd11",
   "metadata": {},
   "outputs": [],
   "source": []
  },
  {
   "cell_type": "code",
   "execution_count": null,
   "id": "6b2e9fba-afcf-4453-af65-504e4d2a989c",
   "metadata": {},
   "outputs": [],
   "source": []
  }
 ],
 "metadata": {
  "kernelspec": {
   "display_name": "Python 3 (ipykernel)",
   "language": "python",
   "name": "python3"
  },
  "language_info": {
   "codemirror_mode": {
    "name": "ipython",
    "version": 3
   },
   "file_extension": ".py",
   "mimetype": "text/x-python",
   "name": "python",
   "nbconvert_exporter": "python",
   "pygments_lexer": "ipython3",
   "version": "3.11.3"
  }
 },
 "nbformat": 4,
 "nbformat_minor": 5
}
